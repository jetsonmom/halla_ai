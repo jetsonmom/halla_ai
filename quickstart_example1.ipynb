{
  "nbformat": 4,
  "nbformat_minor": 0,
  "metadata": {
    "colab": {
      "private_outputs": true,
      "provenance": [],
      "authorship_tag": "ABX9TyPIjqRnu0fwrWsOyxSVRiGj",
      "include_colab_link": true
    },
    "kernelspec": {
      "name": "python3",
      "display_name": "Python 3"
    },
    "language_info": {
      "name": "python"
    }
  },
  "cells": [
    {
      "cell_type": "markdown",
      "metadata": {
        "id": "view-in-github",
        "colab_type": "text"
      },
      "source": [
        "<a href=\"https://colab.research.google.com/github/jetsonmom/halla_ai/blob/main/quickstart_example1.ipynb\" target=\"_parent\"><img src=\"https://colab.research.google.com/assets/colab-badge.svg\" alt=\"Open In Colab\"/></a>"
      ]
    },
    {
      "cell_type": "code",
      "source": [
        "%pip install ultralytics\n",
        "from ultralytics import YOLO"
      ],
      "metadata": {
        "id": "kCzDbOIgZmaK"
      },
      "execution_count": null,
      "outputs": []
    },
    {
      "cell_type": "code",
      "execution_count": null,
      "metadata": {
        "id": "OebK45wsZcQs"
      },
      "outputs": [],
      "source": [
        "\n",
        "\n",
        "# Create a new YOLO model from scratch\n",
        "# 모델의 구조, 즉 레이어와 매개변수를 지정하는 설정 파일(yolov8n.yaml)을 사용하여 새 YOLO 모델을 초기화\n",
        "model = YOLO(\"yolov8n.yaml\")\n",
        "\n",
        "# Load a pretrained YOLO model (recommended for training)\n",
        "model = YOLO(\"yolov8n.pt\") # predefined된 yolov8n.pt를 가져와서 yolo에 load. .pt는 파이토치 모델 파일이다\n",
        "\n",
        "# Train the model using the 'coco8.yaml' dataset for 3 epochs coco8.yaml에 지정된 데이터셋에서 모델을 훈련시킵니다.\n",
        "#  이 YAML 파일은 이미지와 주석 경로와 같은 데이터셋에 대한 세부 정보를 포함해야 합니다.\n",
        "# 3 에폭 동안 훈련한다는 것은 모델이 모든 데이터를 세 번 반복 처리하며, 손실 계산에 기초하여 가중치를 업데이트한다는 의미입니다.\n",
        "results = model.train(data=\"coco8.yaml\", epochs=3)\n",
        "\n",
        "# Evaluate(평가) the model's performance on the validation set   검증 세트에서 모델의 성능을 평가\n",
        "results = model.val()\n",
        "\n",
        "# Perform object detection on an image using the model\n",
        "# 이 줄은 훈련된 모델을 사용하여 지정된 이미지에서 객체를 탐지합니다.\n",
        "# 이미지 URL을 모델에 직접 전달하면 모델이 이를 처리하고 탐지 결과를 반환합니다.\n",
        "results = model(\"https://ultralytics.com/images/bus.jpg\")\n",
        "\n",
        "# Export the model to ONNX format\n",
        "success = model.export(format=\"onnx\")"
      ]
    },
    {
      "cell_type": "code",
      "source": [
        "from ultralytics import YOLO\n",
        "\n",
        "# Load an official or custom model\n",
        "model = YOLO(\"yolov8n.pt\")  # Load an official Detect model\n",
        "model = YOLO(\"yolov8n-seg.pt\")  # Load an official Segment model\n",
        "model = YOLO(\"yolov8n-pose.pt\")  # Load an official Pose model\n",
        "model = YOLO(\"/content/best.pt\")  # Load a custom trained model\n",
        "\n",
        "# Perform tracking with the model\n",
        "results = model.track(\"https://youtu.be/LNwODJXcvt4\", show=True)  # Tracking with default tracker\n",
        "results = model.track(\"https://youtu.be/LNwODJXcvt4\", show=True, tracker=\"bytetrack.yaml\")  # with ByteTrack"
      ],
      "metadata": {
        "id": "1loTS6EstfBs"
      },
      "execution_count": null,
      "outputs": []
    },
    {
      "cell_type": "code",
      "source": [
        "from ultralytics import YOLO\n",
        "\n",
        "# Load a pretrained YOLOv8n model\n",
        "model = YOLO(\"yolov8n.pt\")\n",
        "\n",
        "# Run inference on an image\n",
        "results = model(\"bus.jpg\")  # results list\n",
        "results_dir = '/content/runs/detect/predict'\n",
        "os.makedirs(results_dir, exist_ok=True)\n",
        "print(\"디렉토리 생성 확인:\", results_dir)\n",
        "\n",
        "# View results\n",
        "for r in results:\n",
        "    print(r.boxes)\n",
        "# View results\n",
        "display(results)\n",
        "for r in results:\n",
        "    r.show()"
      ],
      "metadata": {
        "id": "RntLtV1fuarA"
      },
      "execution_count": null,
      "outputs": []
    },
    {
      "cell_type": "code",
      "source": [
        "import os\n",
        "print(\"Current working directory:\", os.getcwd())\n"
      ],
      "metadata": {
        "id": "E9YRXz6qRjq2"
      },
      "execution_count": null,
      "outputs": []
    },
    {
      "cell_type": "code",
      "source": [
        "results_dir = '/content/runs/detect/predict'\n",
        "if os.path.exists(results_dir):\n",
        "    print(\"Directory found. Here are the contents:\")\n",
        "    for file_name in os.listdir(results_dir):\n",
        "        print(file_name)\n",
        "else:\n",
        "    print(\"Directory not found.\")\n"
      ],
      "metadata": {
        "id": "HK7VBr0fRy7g"
      },
      "execution_count": null,
      "outputs": []
    }
  ]
}