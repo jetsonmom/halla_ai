{
  "nbformat": 4,
  "nbformat_minor": 0,
  "metadata": {
    "colab": {
      "private_outputs": true,
      "provenance": [],
      "authorship_tag": "ABX9TyO211+zBjvAH+4vpcTOCGJg",
      "include_colab_link": true
    },
    "kernelspec": {
      "name": "python3",
      "display_name": "Python 3"
    },
    "language_info": {
      "name": "python"
    }
  },
  "cells": [
    {
      "cell_type": "markdown",
      "metadata": {
        "id": "view-in-github",
        "colab_type": "text"
      },
      "source": [
        "<a href=\"https://colab.research.google.com/github/jetsonmom/halla_ai/blob/main/%EB%89%B4%EB%9F%B0_%EB%AA%A8%EB%8D%B8_%EC%98%88%EC%A0%9C.ipynb\" target=\"_parent\"><img src=\"https://colab.research.google.com/assets/colab-badge.svg\" alt=\"Open In Colab\"/></a>"
      ]
    },
    {
      "cell_type": "code",
      "execution_count": null,
      "metadata": {
        "id": "UXmhJo8qmfLe"
      },
      "outputs": [],
      "source": [
        "import tensorflow as tf\n",
        "from tensorflow.keras.layers import Input, Dense, Flatten\n",
        "from tensorflow.keras.models import Model\n",
        "\n",
        "# 이미지 데이터의 크기 정의\n",
        "height = 28\n",
        "width = 28\n",
        "channels = 3  # RGB 이미지\n",
        "\n",
        "# 신경망 모델 구성\n",
        "input_layer = Input(shape=(height, width, channels))  # 입력층의 shape 설정\n",
        "flatten_layer = Flatten()(input_layer)  # 이미지 데이터를 1D 벡터로 펼치기\n",
        "hidden_layer = Dense(64, activation='relu')(flatten_layer)  # 숨겨진 계층\n",
        "output_layer = Dense(10, activation='softmax')(hidden_layer)  # 출력 계층\n",
        "\n",
        "# 모델 생성\n",
        "model = Model(inputs=input_layer, outputs=output_layer)\n",
        "\n",
        "# 모델 요약 출력\n",
        "model.summary()\n"
      ]
    },
    {
      "cell_type": "markdown",
      "source": [
        "이 모델 요약은 TensorFlow와 Keras를 사용하여 구성된 간단한 신경망의 구조를 보여줍니다. 각 계층(layer)의 구성, 출력 형태(output shape), 그리고 각 계층의 파라미터 수(parameter count)를 나타내며, 이는 모델의 전체적인 구조와 크기를 이해하는 데 도움을 줍니다. 자세히 살펴보겠습니다:\n",
        "\n",
        "모델 구조 설명\n",
        "Input Layer\n",
        "\n",
        "타입: InputLayer\n",
        "출력 형태: (None, 28, 28, 3)\n",
        "파라미터 수: 0\n",
        "설명: 모델의 입력층으로, 28x28 크기의 이미지를 입력받습니다. 각 이미지는 3개의 채널(RGB)을 가지고 있습니다. None은 배치 크기(batch size)를 나타내며, 이는 입력 데이터의 수를 동적으로 조정할 수 있음을 의미합니다.\n",
        "Flatten Layer\n",
        "\n",
        "타입: Flatten\n",
        "출력 형태: (None, 2352)\n",
        "파라미터 수: 0\n",
        "설명: 입력 이미지를 1차원 벡터로 변환합니다. 28x28x3 = 2352 요소를 갖는 벡터로 평탄화하여 다음 계층에 전달합니다. 이 계층은 파라미터를 갖지 않습니다.\n",
        "First Dense Layer\n",
        "\n",
        "타입: Dense\n",
        "출력 형태: (None, 64)\n",
        "파라미터 수: 150,592\n",
        "설명: 완전 연결 계층(fully-connected layer)으로, 64개의 뉴런을 가집니다. 이 계층의 파라미터 수는 입력 연결(2352)과 각 연결에 대한 가중치(2352x64), 더해져 각 뉴런의 편향(bias)을 위한 64개가 있어 총 150,592개의 파라미터가 있습니다.\n",
        "Output Dense Layer\n",
        "\n",
        "타입: Dense\n",
        "출력 형태: (None, 10)\n",
        "파라미터 수: 650\n",
        "설명: 마지막 출력 계층 역시 완전 연결 계층으로, 10개의 뉴런을 가지고 있습니다. 이 뉴런들은 최종적으로 10개의 다른 클래스에 대한 예측 결과를 출력합니다. 파라미터 수는 이전 계층의 64개 출력과 연결된 64x10 가중치와 10개의 편향을 합친 것입니다.\n",
        "전체 모델 파라미터\n",
        "총 파라미터 수: 151,242개\n",
        "학습 가능한 파라미터 수: 151,242개\n",
        "학습 불가능한 파라미터 수: 0\n",
        "이 정보는 모델이 학습해야 할 파라미터의 양을 나타내며, 이는 모델의 복잡성과 학습에 필요한 계산량을 결정합니다. 또한 이 모델은 모든 파라미터가 학습 가능하며, 추가적으로 학습 불가능한 파라미터는 없습니다. 이는 전체 모델이 학습 과정에서 조정될 수 있음을 의미합니다.\n",
        "\n",
        "\n",
        "\n",
        "\n",
        "\n",
        "\n"
      ],
      "metadata": {
        "id": "UAiqeyy-9MMt"
      }
    }
  ]
}