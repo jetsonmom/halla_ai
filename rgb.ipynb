{
  "nbformat": 4,
  "nbformat_minor": 0,
  "metadata": {
    "colab": {
      "private_outputs": true,
      "provenance": [],
      "authorship_tag": "ABX9TyPQKvihkRvyEWAJGgA1rJl0",
      "include_colab_link": true
    },
    "kernelspec": {
      "name": "python3",
      "display_name": "Python 3"
    },
    "language_info": {
      "name": "python"
    }
  },
  "cells": [
    {
      "cell_type": "markdown",
      "metadata": {
        "id": "view-in-github",
        "colab_type": "text"
      },
      "source": [
        "<a href=\"https://colab.research.google.com/github/jetsonmom/halla_ai/blob/main/rgb.ipynb\" target=\"_parent\"><img src=\"https://colab.research.google.com/assets/colab-badge.svg\" alt=\"Open In Colab\"/></a>"
      ]
    },
    {
      "cell_type": "code",
      "execution_count": null,
      "metadata": {
        "id": "et9lCShjgINb"
      },
      "outputs": [],
      "source": [
        "!pip install numpy matplotlib"
      ]
    },
    {
      "cell_type": "markdown",
      "source": [
        "코드 설명\n",
        "3D 플롯 준비: mpl_toolkits.mplot3d 모듈의 Axes3D 클래스를 사용하여 3D 축을 만듭니다.\n",
        "축 라벨 설정: set_xlabel, set_ylabel, set_zlabel 메소드를 사용하여 각 축의 라벨을 설정하고, 라벨 색상을 각각 지정합니다.\n",
        "데이터 플롯: ax.scatter 메소드를 사용하여 3D 공간에 데이터 포인트를 표시합니다. 여기서는 numpy를 이용해 무작위 데이터를 생성하고, 이를 삼각함수로 변형하여 사용했습니다.\n",
        "플롯 표시: 마지막으로 plt.show()를 호출하여 그래프를 표시합니다.\n",
        "코드는 100x100 픽셀 크기의 이미지를 생성하고, 이 이미지를 네 부분으로 나누어 각각 다른 색상을 적용합니다:\n",
        "\n",
        "빨간색 영역: 상단 왼쪽 쿼터는 모든 빨간색 성분이 최대값(255)이고, 녹색과 파란색 성분은 0입니다.\n",
        "녹색 영역: 하단 왼쪽 쿼터는 녹색 성분만 최대값입니다.\n",
        "파란색 영역: 상단 오른쪽 쿼터는 파란색 성분만 최대값입니다.\n",
        "흰색 영역: 하단 오른쪽 쿼터는 모든 색상 성분(R, G, B)이 최대값(255)으로, 이는 흰색을 생성합니다."
      ],
      "metadata": {
        "id": "qfsBQCsElLsL"
      }
    },
    {
      "cell_type": "code",
      "source": [
        "import numpy as np\n",
        "import matplotlib.pyplot as plt\n",
        "\n",
        "# 100x100 픽셀의 이미지 생성\n",
        "image = np.zeros((100, 100, 3), dtype=np.uint8)\n",
        "\n",
        "# 이미지의 일부 영역에 색상 채우기\n",
        "# 빨간색 영역\n",
        "image[:50, :50] = [255, 0, 0]  # 상단 왼쪽 쿼터\n",
        "# 녹색 영역\n",
        "image[50:, :50] = [0, 255, 0]  # 하단 왼쪽 쿼터\n",
        "# 파란색 영역\n",
        "image[:50, 50:] = [0, 0, 255]  # 상단 오른쪽 쿼터\n",
        "# 흰색 영역\n",
        "image[50:, 50:] = [255, 255, 255]  # 하단 오른쪽 쿼터\n",
        "\n",
        "# 이미지 표시\n",
        "plt.imshow(image)\n",
        "plt.title('Simple RGB Image Example')\n",
        "plt.axis('off')  # 축 레이블 비활성화\n",
        "plt.show()\n"
      ],
      "metadata": {
        "id": "srFs3Q94gNBl"
      },
      "execution_count": null,
      "outputs": []
    },
    {
      "cell_type": "markdown",
      "source": [
        "\n",
        "3D 플롯에서 각 축을 다른 색으로 표현하는 예제를 만들어 보겠습니다. 이 코드는 Python의 matplotlib 라이브러리를 사용하여 3차원 플롯을 생성하고, 가로축을 빨강색, 세로축을 파랑색, 높이축을 녹색으로 설정"
      ],
      "metadata": {
        "id": "Cgg_3X9JhKnY"
      }
    },
    {
      "cell_type": "markdown",
      "source": [
        "3D 축 색상 설정 코드"
      ],
      "metadata": {
        "id": "jO2W2SFnhP-U"
      }
    },
    {
      "cell_type": "code",
      "source": [
        "import matplotlib.pyplot as plt\n",
        "from mpl_toolkits.mplot3d import Axes3D\n",
        "import numpy as np\n",
        "\n",
        "# 새로운 그림 생성\n",
        "fig = plt.figure()\n",
        "\n",
        "# 3D subplot 추가\n",
        "ax = fig.add_subplot(111, projection='3d')\n",
        "\n",
        "# 각 축의 라벨 설정\n",
        "ax.set_xlabel('X axis', color='red')  # 가로축 빨강\n",
        "ax.set_ylabel('Y axis', color='blue') # 세로축 파랑\n",
        "ax.set_zlabel('Z axis', color='green') # 높이축 녹색\n",
        "\n",
        "# 각 축의 범위 설정\n",
        "ax.set_xlim([0, 5])\n",
        "ax.set_ylim([0, 5])\n",
        "ax.set_zlim([0, 5])\n",
        "\n",
        "# 축의 눈금 색상 설정\n",
        "ax.xaxis.label.set_color('red')    # X 축 눈금 빨강\n",
        "ax.yaxis.label.set_color('blue')   # Y 축 눈금 파랑\n",
        "ax.zaxis.label.set_color('green')  # Z 축 눈금 녹색\n",
        "\n",
        "# 간단한 데이터로 예제 플롯\n",
        "#x, y = np.random.rand(2, 100) * 4\n",
        "#z = np.sin(x) + np.cos(y)\n",
        "\n",
        "#ax.scatter(x, y, z, c='magenta')  # 데이터 점을 magenta 색상으로 표시\n",
        "\n",
        "# 플롯 보이기\n",
        "plt.show()\n"
      ],
      "metadata": {
        "id": "87egoIy3hBhN"
      },
      "execution_count": null,
      "outputs": []
    },
    {
      "cell_type": "code",
      "source": [
        "import matplotlib.pyplot as plt\n",
        "from mpl_toolkits.mplot3d import Axes3D\n",
        "import numpy as np\n",
        "\n",
        "# 새로운 그림 생성\n",
        "fig = plt.figure()\n",
        "\n",
        "# 3D subplot 추가\n",
        "ax = fig.add_subplot(111, projection='3d')\n",
        "\n",
        "# 각 축의 라벨 설정\n",
        "ax.set_xlabel('X axis', color='red')  # 가로축 빨강\n",
        "ax.set_ylabel('Y axis', color='blue') # 세로축 파랑\n",
        "ax.set_zlabel('Z axis', color='green') # 높이축 녹색\n",
        "\n",
        "# 각 축의 라벨 색상도 설정\n",
        "ax.w_xaxis.set_tick_params(colors='red')   # X 축 눈금 색상\n",
        "ax.w_yaxis.set_tick_params(colors='blue')  # Y 축 눈금 색상\n",
        "ax.w_zaxis.set_tick_params(colors='green') # Z 축 눈금 색상\n",
        "\n",
        "# 축의 범위 설정\n",
        "ax.set_xlim([0, 5])\n",
        "ax.set_ylim([0, 5])\n",
        "ax.set_zlim([0, 5])\n",
        "\n",
        "# 간단한 데이터로 예제 플롯\n",
        "\n",
        "\n",
        "# 플롯 보이기\n",
        "plt.show()\n"
      ],
      "metadata": {
        "id": "0a-sM5vdh50e"
      },
      "execution_count": null,
      "outputs": []
    }
  ]
}