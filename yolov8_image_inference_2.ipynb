{
  "nbformat": 4,
  "nbformat_minor": 0,
  "metadata": {
    "colab": {
      "private_outputs": true,
      "provenance": [],
      "gpuType": "T4",
      "authorship_tag": "ABX9TyOSAmieGx8IFTddD9M7S0GH",
      "include_colab_link": true
    },
    "kernelspec": {
      "name": "python3",
      "display_name": "Python 3"
    },
    "language_info": {
      "name": "python"
    },
    "accelerator": "GPU"
  },
  "cells": [
    {
      "cell_type": "markdown",
      "metadata": {
        "id": "view-in-github",
        "colab_type": "text"
      },
      "source": [
        "<a href=\"https://colab.research.google.com/github/jetsonmom/halla_ai/blob/main/yolov8_image_inference_2.ipynb\" target=\"_parent\"><img src=\"https://colab.research.google.com/assets/colab-badge.svg\" alt=\"Open In Colab\"/></a>"
      ]
    },
    {
      "cell_type": "code",
      "source": [
        "%pip install ultralytics\n",
        "from ultralytics import YOLO"
      ],
      "metadata": {
        "id": "wnDENN3RXP23"
      },
      "execution_count": null,
      "outputs": []
    },
    {
      "cell_type": "code",
      "source": [
        "# Load a pretrained YOLOv8n model\n",
        "model = YOLO('yolov8n.pt')\n",
        "\n",
        "# Define path to the image file\n",
        "image_path = '/content/sample_data/1.jpg'\n",
        "\n",
        "# Run inference on the source\n",
        "results = model(image_path)  # list of Results objects"
      ],
      "metadata": {
        "id": "U7FjcML_wN7K"
      },
      "execution_count": null,
      "outputs": []
    },
    {
      "cell_type": "code",
      "source": [
        "from ultralytics import YOLO\n",
        "# Load a pretrained YOLOv8n model\n",
        "model = YOLO('yolov8n.pt')\n",
        "# Define path to the image file\n",
        "image_path = '/content/sample_data/1.jpg'\n",
        "# Run inference on the source\n",
        "results = model.predict(image_path)  # list of Results objects\n",
        "first_result = results[0]\n",
        "first_result.show()\n",
        "first_result.save()"
      ],
      "metadata": {
        "id": "B2whmETCvo9j"
      },
      "execution_count": null,
      "outputs": []
    },
    {
      "cell_type": "code",
      "source": [
        "%pip install ultralytics"
      ],
      "metadata": {
        "id": "8N2qL4XB4-CS"
      },
      "execution_count": null,
      "outputs": []
    },
    {
      "cell_type": "code",
      "source": [
        "from ultralytics import YOLO\n",
        "from IPython.display import Image, display\n",
        "\n",
        "# Load a pretrained YOLOv8n model\n",
        "model = YOLO('yolov8n.pt')\n",
        "\n",
        "# Define path to the image file\n",
        "image_path = '/content/sample_data/1.jpg'\n",
        "\n",
        "# Run inference on the source\n",
        "results = model.predict(image_path)  # list of Results objects\n",
        "\n",
        "# Assuming results[0] contains the desired Result object\n",
        "first_result = results[0]\n",
        "first_result.save()  # Make sure to check the correct path of the saved image\n",
        "saved_image_path = '/content/results_1.jpg'  # This path might change depending on your environment and run\n",
        "display(Image(saved_image_path))\n",
        "\n"
      ],
      "metadata": {
        "id": "dJih_Bem5zn4"
      },
      "execution_count": null,
      "outputs": []
    },
    {
      "cell_type": "markdown",
      "source": [
        "yolov8n.pt 파일 다운로드 \"https://docs.ultralytics.com/models/yolov8/#performance-metrics\""
      ],
      "metadata": {
        "id": "xxq2vDEYGHN9"
      }
    },
    {
      "cell_type": "code",
      "source": [
        "%pip install ultralytics"
      ],
      "metadata": {
        "id": "QKam_NSjLacP"
      },
      "execution_count": null,
      "outputs": []
    },
    {
      "cell_type": "code",
      "source": [
        "import cv2\n",
        "from ultralytics import YOLO\n",
        "\n",
        "# YOLO 모델 로드\n",
        "model = YOLO('yolov8n.pt')\n",
        "\n",
        "# 비디오 파일을 엽니다\n",
        "video = cv2.VideoCapture('content/sample_data/2.mp4')\n",
        "\n",
        "# 비디오 저장을 위한 준비\n",
        "fourcc = cv2.VideoWriter_fourcc(*'mp4v')  # mp4v는 코덱입니다\n",
        "out = cv2.VideoWriter('output.mp4', fourcc, 20.0, (int(video.get(3)), int(video.get(4))))\n",
        "\n",
        "# 비디오 프레임을 순회하면서 처리\n",
        "while True:\n",
        "    ret, frame = video.read()\n",
        "    if not ret:\n",
        "        break\n",
        "\n",
        "    # 모델을 사용한 객체 탐지\n",
        "    results = model(frame)\n",
        "    results.render()  # 결과를 프레임에 렌더링\n",
        "\n",
        "    # 결과를 표시하거나 저장\n",
        "    cv2.imshow('YOLO Detection', frame)\n",
        "    out.write(frame)  # 수정된 프레임을 비디오 파일에 저장\n",
        "\n",
        "    if cv2.waitKey(1) & 0xFF == ord('q'):\n",
        "        break\n",
        "\n",
        "video.release()\n",
        "out.release()  # 비디오 쓰기 객체를 해제\n",
        "cv2.destroyAllWindows()\n",
        "\n",
        "\n"
      ],
      "metadata": {
        "id": "WWKNAuHO-yDs"
      },
      "execution_count": null,
      "outputs": []
    },
    {
      "cell_type": "code",
      "source": [
        "import cv2\n",
        "from ultralytics import YOLO\n",
        "from IPython.display import Image, display\n",
        "from google.colab.patches import cv2_imshow  # Colab에서 이미지를 보여주기 위한 함수\n",
        "\n",
        "# YOLO 모델 로드\n",
        "model = YOLO('yolov8n.pt')\n",
        "\n",
        "# 비디오 파일 열기\n",
        "video = cv2.VideoCapture('content/sample_data/1.mp4')\n",
        "\n",
        "# 몇 프레임만 처리하고 결과를 표시\n",
        "for i in range(10):  # 처음 5개의 프레임만 처리\n",
        "    ret, frame = video.read()\n",
        "    if not ret:\n",
        "        break\n",
        "\n",
        "    # 객체 탐지\n",
        "    results = model(frame)\n",
        "    results.render()  # 탐지 결과를 프레임에 렌더링\n",
        "\n",
        "    # 처리된 프레임을 파일로 저장\n",
        "    cv2.imwrite(f'frame_{i}.jpg', frame)\n",
        "    display(Image(f'frame_{i}.jpg'))  # 저장된 이미지 표시\n",
        "\n",
        "video.release()\n"
      ],
      "metadata": {
        "id": "OiaRpP2uYFUB"
      },
      "execution_count": null,
      "outputs": []
    },
    {
      "cell_type": "code",
      "source": [
        "import cv2\n",
        "from ultralytics import YOLO\n",
        "from IPython.display import Image, display\n",
        "from google.colab.patches import cv2_imshow  # Colab에서 이미지를 보여주기 위한 함수\n",
        "\n",
        "# YOLO 모델 로드\n",
        "model = YOLO('yolov8n.pt')\n",
        "\n",
        "# 비디오 파일 열기\n",
        "video = cv2.VideoCapture('content/sample_data/2.mp4')\n",
        "\n",
        "# 몇 프레임만 처리하고 결과를 표시\n",
        "for i in range(5):  # 처음 5개의 프레임만 처리\n",
        "    ret, frame = video.read()\n",
        "    if not ret:\n",
        "        break\n",
        "\n",
        "    # 객체 탐지\n",
        "    results = model(frame)\n",
        "    results.render()  # 탐지 결과를 프레임에 렌더링\n",
        "\n",
        "    # 처리된 프레임을 파일로 저장\n",
        "    cv2.imwrite(f'/content/sample_data/frame_{i}.jpg', frame)  # 수정된 저장 경로\n",
        "    display(Image(filename=f'/content/sample_data/frame_{i}.jpg'))  # 수정된 로드 경로\n",
        "\n",
        "video.release()\n"
      ],
      "metadata": {
        "id": "TVCPScSWk5Pw"
      },
      "execution_count": null,
      "outputs": []
    },
    {
      "cell_type": "code",
      "source": [
        "import cv2\n",
        "from ultralytics import YOLO\n",
        "from IPython.display import Image, display\n",
        "from google.colab.patches import cv2_imshow\n",
        "\n",
        "# YOLO 모델 로드 시도\n",
        "try:\n",
        "    model = YOLO('yolov8n.pt')\n",
        "    print(\"모델 로드 성공\")\n",
        "except Exception as e:\n",
        "    print(\"모델 로드 실패:\", e)\n",
        "\n",
        "# 비디오 파일 열기 시도\n",
        "try:\n",
        "    video = cv2.VideoCapture('/content/sample_data/2.mp4')\n",
        "    if not video.isOpened():\n",
        "        raise ValueError(\"비디오 파일을 열 수 없습니다.\")\n",
        "    print(\"비디오 파일 열기 성공\")\n",
        "except Exception as e:\n",
        "    print(\"비디오 열기 오류:\", e)\n",
        "\n",
        "# 비디오 처리\n",
        "try:\n",
        "    for i in range(5):\n",
        "        ret, frame = video.read()\n",
        "        if not ret:\n",
        "            print(\"프레임 읽기 실패\")\n",
        "            break\n",
        "        print(f\"프레임 {i} 읽기 성공\")\n",
        "\n",
        "        # 객체 탐지 및 렌더링\n",
        "        results = model(frame)\n",
        "        results.render()\n",
        "\n",
        "        # 이미지 저장\n",
        "        filepath = f'/content/sample_data/frame_{i}.jpg'\n",
        "        cv2.imwrite(filepath, frame)\n",
        "        print(f\"이미지 저장: {filepath}\")\n",
        "        display(Image(filepath))\n",
        "except Exception as e:\n",
        "    print(\"처리 중 오류 발생:\", e)\n",
        "\n",
        "finally:\n",
        "    video.release()\n"
      ],
      "metadata": {
        "id": "k4r0pMcLnKn2"
      },
      "execution_count": null,
      "outputs": []
    }
  ]
}